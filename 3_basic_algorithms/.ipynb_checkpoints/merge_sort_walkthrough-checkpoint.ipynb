{
 "cells": [
  {
   "cell_type": "markdown",
   "metadata": {},
   "source": [
    "# MergeSort\n",
    "\n",
    "MergeSort is a *divide and conquer* algorithm that divides a list into equal halves until it has two single elements and then merges the sub-lists until the entire list has been reassembled in order.\n",
    "\n",
    "### Divide\n",
    "Our MergeSort code will focus first on the divide portion of the algorithm. If the list we receive has only a single element in it, the list can be considered sorted and we can return immediately.  This is our recursion base case.  If we have more than 1 element we need to split the list into equal halves and call MergeSort again for each half.\n",
    "\n",
    "### Conquer\n",
    "Once you have split the list down to single elements, your mergesort will start merging lists, in order, until you have reassembled the entire list in order.\n",
    "\n",
    "## Design\n",
    "\n",
    "First, let's sketch this out. It's clear we want a recursive function, but how will it govern its recursion?\n",
    "\n",
    "```python\n",
    "def mergesort(items):\n",
    "    # Base case, a list of 0 or 1 items is already sorted\n",
    "    if len(items) <= 1:\n",
    "        return items\n",
    "    \n",
    "    # Otherwise, find the midpoint and split the list\n",
    "    # TODO\n",
    "    # left =\n",
    "    # right =\n",
    "    \n",
    "    # Call mergesort recursively with the left and right half\n",
    "    left = mergesort(left)\n",
    "    right = mergesort(right)\n",
    "    \n",
    "    # Merge our two halves and return\n",
    "    return merge(left, right)\n",
    "    \n",
    "def merge(left, right):\n",
    "    # Given two ordered lists, merge them together in order,\n",
    "    # returning the merged list.\n",
    "    # TODO\n",
    "```\n",
    "\n",
    "We have decomposed the problem, now we will address each piece separately.\n",
    "\n",
    "### Divide\n",
    "\n",
    "We can use python's `//` operator to find a midpoint. If `items`'s length is even, we will have the midpoint. If `items`'s length is odd, we will have one half larger by one."
   ]
  },
  {
   "cell_type": "code",
   "execution_count": null,
   "metadata": {},
   "outputs": [],
   "source": [
    "list1 = [0, 1, 2, 3]\n",
    "midpoint1 = len(list1) // 2\n",
    "print('List 1 midpoint: {}'.format(midpoint1))\n",
    "\n",
    "list2 = [4, 5, 6]\n",
    "midpoint2 = len(list2) // 2\n",
    "print('List 2 midpoint: {}'.format(midpoint2))"
   ]
  },
  {
   "cell_type": "markdown",
   "metadata": {},
   "source": [
    "With our midpoints, we can slice the lists using python's special notation. Note, you can improve effencncy by not using the slice function. Instead, keep track of indicies."
   ]
  },
  {
   "cell_type": "code",
   "execution_count": null,
   "metadata": {},
   "outputs": [],
   "source": [
    "left1 = list1[:midpoint1]\n",
    "right1 = list1[midpoint1:]\n",
    "print('List 1 left side: {}'.format(left1))\n",
    "print('List 1 right side: {}'.format(right1))\n",
    "\n",
    "left2 = list2[:midpoint2]\n",
    "right2 = list2[midpoint2:]\n",
    "print('List 2 left side: {}'.format(left2))\n",
    "print('List 2 right side: {}'.format(right2))"
   ]
  },
  {
   "cell_type": "markdown",
   "metadata": {},
   "source": [
    "That addresses our first TODO, now for the fun one.\n",
    "\n",
    "The `merge` function needs to take two sorted lists, and interleave them, yielding a _merged_ sorted list. We can accomplish that by tracking an index into both lists, and once one is exhausted, appending the remaining items from the other list."
   ]
  },
  {
   "cell_type": "code",
   "execution_count": null,
   "metadata": {},
   "outputs": [],
   "source": [
    "def merge(left, right):\n",
    "    merged = []\n",
    "    left_index = 0\n",
    "    right_index = 0\n",
    "    \n",
    "    # Move through the lists until we have exhausted one\n",
    "    while left_index < len(left) and right_index < len(right):\n",
    "        # If left's item is larger, append right's item\n",
    "        # and increment the index\n",
    "        if left[left_index] > right[right_index]:\n",
    "            merged.append(right[right_index])\n",
    "            right_index += 1\n",
    "        # Otherwise, append left's item and increment\n",
    "        else:\n",
    "            merged.append(left[left_index])\n",
    "            left_index += 1\n",
    "     \n",
    "    # Append any leftovers. Because we've broken from our while loop,\n",
    "    # we know at least one is empty, and the remaining:\n",
    "    # a) are already sorted\n",
    "    # b) all sort past our last element in merged\n",
    "    merged += left[left_index:]\n",
    "    merged += right[right_index:]\n",
    "        \n",
    "    # return the ordered, merged list\n",
    "    return merged\n",
    "\n",
    "# Test this out\n",
    "merged = merge([1,3,7], [2,5,6])\n",
    "print(merged)"
   ]
  },
  {
   "cell_type": "markdown",
   "metadata": {},
   "source": [
    "Now we can combine our TODO resolutions into our sketch from above."
   ]
  },
  {
   "cell_type": "code",
   "execution_count": null,
   "metadata": {},
   "outputs": [],
   "source": [
    "def mergesort(items):\n",
    "\n",
    "    if len(items) <= 1:\n",
    "        return items\n",
    "    \n",
    "    mid = len(items) // 2\n",
    "    left = items[:mid]\n",
    "    right = items[mid:]\n",
    "    \n",
    "    left = mergesort(left)\n",
    "    right = mergesort(right)\n",
    "    \n",
    "    return merge(left, right)\n",
    "    \n",
    "def merge(left, right):\n",
    "    \n",
    "    merged = []\n",
    "    left_index = 0\n",
    "    right_index = 0\n",
    "    \n",
    "    while left_index < len(left) and right_index < len(right):\n",
    "        if left[left_index] > right[right_index]:\n",
    "            merged.append(right[right_index])\n",
    "            right_index += 1\n",
    "        else:\n",
    "            merged.append(left[left_index])\n",
    "            left_index += 1\n",
    "\n",
    "    merged += left[left_index:]\n",
    "    merged += right[right_index:]\n",
    "        \n",
    "    return merged\n",
    "\n",
    "\n",
    "test_list_1 = [8, 3, 1, 7, 0, 10, 2]\n",
    "test_list_2 = [1, 0]\n",
    "test_list_3 = [97, 98, 99]\n",
    "print('{} to {}'.format(test_list_1, mergesort(test_list_1)))\n",
    "print('{} to {}'.format(test_list_2, mergesort(test_list_2)))\n",
    "print('{} to {}'.format(test_list_3, mergesort(test_list_3)))"
   ]
  }
 ],
 "metadata": {
  "kernelspec": {
   "display_name": "Python 3",
   "language": "python",
   "name": "python3"
  },
  "language_info": {
   "codemirror_mode": {
    "name": "ipython",
    "version": 3
   },
   "file_extension": ".py",
   "mimetype": "text/x-python",
   "name": "python",
   "nbconvert_exporter": "python",
   "pygments_lexer": "ipython3",
   "version": "3.7.1"
  }
 },
 "nbformat": 4,
 "nbformat_minor": 2
}
