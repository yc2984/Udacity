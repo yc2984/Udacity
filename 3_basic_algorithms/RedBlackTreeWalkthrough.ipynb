{
 "cells": [
  {
   "cell_type": "markdown",
   "metadata": {},
   "source": [
    "# Building a Red-Black Tree"
   ]
  },
  {
   "cell_type": "markdown",
   "metadata": {},
   "source": [
    "In this notebook, we'll walk through how you might build a red-black tree. Remember, we need to follow the red-black tree rules, on top of the binary search tree rules. Our new rules are:\n",
    "\n",
    "* All nodes have a color\n",
    "* All nodes have two children (use NULL nodes)\n",
    "  * All NULL nodes are colored black\n",
    "* If a node is red, its children must be black\n",
    "* The root node must be black (optional)\n",
    "  * We'll go ahead and implement without this for now\n",
    "* Every path to its descendant NULL nodes must contain the same number of black nodes"
   ]
  },
  {
   "cell_type": "markdown",
   "metadata": {},
   "source": [
    "### Sketch\n",
    "\n",
    "Similar to our binary search tree implementation, we will define a class for nodes and a class for the tree itself. The `Node` class will need a couple new attributes. It is no longer enough to only know the children, because we need to ask questions during insertion like, \"what color is my parent's sibling?\". So we will add a parent link as well as the color."
   ]
  },
  {
   "cell_type": "code",
   "execution_count": 1,
   "metadata": {},
   "outputs": [],
   "source": [
    "class Node(object):\n",
    "    def __init__(self, value, parent, color):\n",
    "        self.value = value\n",
    "        self.left = None\n",
    "        self.right = None\n",
    "        self.parent = parent\n",
    "        self.color = color"
   ]
  },
  {
   "cell_type": "markdown",
   "metadata": {},
   "source": [
    "For the tree, we can start with a mostly empty implementation. But we know we want to always insert nodes with color red, so let's fill in the constructor to insert the root node."
   ]
  },
  {
   "cell_type": "markdown",
   "metadata": {},
   "source": [
    "# [yc] why always insert nodes with red? "
   ]
  },
  {
   "cell_type": "code",
   "execution_count": 2,
   "metadata": {},
   "outputs": [],
   "source": [
    "class RedBlackTree(object):\n",
    "    def __init__(self, root):\n",
    "        self.root = Node(root, None, 'red')\n",
    "    \n",
    "    def insert(self, new_val):\n",
    "        pass\n",
    "    \n",
    "    def search(self, find_val):\n",
    "        return False"
   ]
  },
  {
   "cell_type": "markdown",
   "metadata": {},
   "source": [
    "### Insertion\n",
    "\n",
    "Now how would we design our `insert` implementation? We know from our experience with BSTs how most of it will work. We can re-use that portion and augment it to assign colors and parents."
   ]
  },
  {
   "cell_type": "code",
   "execution_count": 3,
   "metadata": {},
   "outputs": [],
   "source": [
    "class RedBlackTree(object):\n",
    "    def __init__(self, root):\n",
    "        self.root = Node(root, None, 'red')\n",
    "        \n",
    "    def insert(self, new_val):\n",
    "        self.insert_helper(self.root, new_val)\n",
    "\n",
    "    def insert_helper(self, current, new_val): # [YC] This is wrong\n",
    "        if current.value < new_val:\n",
    "            if current.right:\n",
    "                self.insert_helper(current.right, current, new_val)\n",
    "            else:\n",
    "                current.right = Node(new_val, current, 'red')\n",
    "        else:\n",
    "            if current.left:\n",
    "                self.insert_helper(current.left, current, new_val)\n",
    "            else:\n",
    "                current.left = Node(new_val, current, 'red')"
   ]
  },
  {
   "cell_type": "markdown",
   "metadata": {},
   "source": [
    "### Rotations\n",
    "\n",
    "At this point we are only making a BST, with extra attributes. To make this a red-black tree, we need to add the extra sauce that makes red-black trees awesome. We will sketch out some more code for rebalancing the tree based on the case, and fill them in one at a time.\n",
    "\n",
    "First, we need to change our `insert_helper` to return the node that was inserted so we can interrogate it when rebalancing."
   ]
  },
  {
   "cell_type": "code",
   "execution_count": null,
   "metadata": {},
   "outputs": [],
   "source": [
    "class RedBlackTree(object):\n",
    "    def __init__(self, root):\n",
    "        self.root = Node(root, None, 'red')\n",
    "        \n",
    "    def insert(self, new_val):\n",
    "        new_node = self.insert_helper(self.root, new_val)\n",
    "        self.rebalance(new_node)\n",
    "\n",
    "    def insert_helper(self, current, new_val):\n",
    "        if current.value < new_val:\n",
    "            if current.right:\n",
    "                return self.insert_helper(current.right, new_val)\n",
    "            else:\n",
    "                current.right = Node(new_val, current, 'red')\n",
    "                return current.right\n",
    "        else:\n",
    "            if current.left:\n",
    "                return self.insert_helper(current.left, new_val)\n",
    "            else:\n",
    "                current.left = Node(new_val, current, 'red')\n",
    "                return current.left\n",
    "    \n",
    "    def rebalance(self, node):\n",
    "        pass"
   ]
  },
  {
   "cell_type": "markdown",
   "metadata": {},
   "source": [
    "#### Case 1\n",
    "\n",
    "_We have just inserted the root node_\n",
    "\n",
    "If we're enforcing that the root must be black, we change its color. We are not enforcing this, so we are all done! Four to go."
   ]
  },
  {
   "cell_type": "code",
   "execution_count": 4,
   "metadata": {},
   "outputs": [],
   "source": [
    "def rebalance(node):\n",
    "    if node.parent == None:\n",
    "        return"
   ]
  },
  {
   "cell_type": "markdown",
   "metadata": {},
   "source": [
    "#### Case 2\n",
    "\n",
    "_We inserted under a black parent node_\n",
    "\n",
    "Thinking through this, we can observe the following: We inserted a red node beneath a black node. The new children (the NULL nodes) are black by definition, and our red node _replaced_ a black NULL node. So the number of black nodes for any paths from parents is unchanged. Nothing to do in this case, either."
   ]
  },
  {
   "cell_type": "code",
   "execution_count": 5,
   "metadata": {},
   "outputs": [],
   "source": [
    "def rebalance(node):    \n",
    "    # Case 1\n",
    "    if node.parent == None:\n",
    "        return\n",
    "    # Case 2\n",
    "    if node.parent.color == 'black':\n",
    "        return"
   ]
  },
  {
   "cell_type": "markdown",
   "metadata": {},
   "source": [
    "#### Case 3\n",
    "\n",
    "_The parent and its sibling of the newly inserted node are both red_\n",
    "\n",
    "Okay, we're done with free cases. In this specific case, we can flip the color of the parent and its sibling. We know they're both red in this case, which means the grandparent is black. It will also need to flip. At that point we will have a freshly painted red node at the grandparent. At that point, we need to do the same evaluation! If the grandparent turns red, and its sibling is also red, that's case 3 again. Guess what that means! Time for more recursion.\n",
    "\n",
    "We will define the `grandparent` and `pibling` (a parent's sibling) methods later, for now let's focus on the core logic."
   ]
  },
  {
   "cell_type": "code",
   "execution_count": 6,
   "metadata": {},
   "outputs": [],
   "source": [
    "def rebalance(self, node):    \n",
    "    # Case 1\n",
    "    if node.parent == None:\n",
    "        return\n",
    "    # Case 2\n",
    "    if node.parent.color == 'black':\n",
    "        return\n",
    "    # From here, we know parent's color is red\n",
    "    # Case 3\n",
    "    if pibling(node).color == 'red':\n",
    "        pibling(node).color = 'black'\n",
    "        node.parent.color = 'black'\n",
    "        grandparent(node).color = 'red'\n",
    "        self.rebalance(grandparent(node))"
   ]
  },
  {
   "cell_type": "markdown",
   "metadata": {},
   "source": [
    "#### Case 4\n",
    "\n",
    "_The newly inserted node has a red parent, but that parent has a black sibling_\n",
    "\n",
    "These last cases get more interesting. The criteria above actually govern case 4 and 5. What separates them is if the newly inserted node is on the _inside_ or the _outside_ of the sub tree. We define _inside_ and _outside_ like this:\n",
    "\n",
    "* inside\n",
    "  * _EITHER_\n",
    "     * the new node is a left child of its parent, but its parent is a right child, or\n",
    "     * the new node is a right child of its parent, but its parent is a left child\n",
    "* outside\n",
    "  * the opposite of inside, the new node and its parent are on the same side of the grandparent\n",
    "  \n",
    "Case 4 is to handle the _inside_ scenario. In this case, we need to rotate. As we will see, this will not finish balancing the tree, but will now qualify for Case 5.\n",
    "\n",
    "We rotate against the inside-ness of the new node. If the new node qualifies for case 4, it needs to move into its parent's spot. If it's on the right of the parent, that's a rotate left. If it's on the left of the parent, that's a rotate right."
   ]
  },
  {
   "cell_type": "code",
   "execution_count": 7,
   "metadata": {},
   "outputs": [],
   "source": [
    "def rebalance(self, node):    \n",
    "    # ... omitted cases 1-3 ...\n",
    "    # Case 4\n",
    "    gp = grandparent(node)\n",
    "    if gp.left and node == gp.left.right:\n",
    "        self.rotate_left(parent(node)) # Here the node that is rotate_left is the parent of the inserted node. \n",
    "    elif gp.right and node == gp.right.left:\n",
    "        self.rotate_right(parent(node))\n",
    "    # TODO: Case 5"
   ]
  },
  {
   "cell_type": "markdown",
   "metadata": {},
   "source": [
    "To implement `rotate_left` and `rotate_right`, think about what we want to accomplish. We want to take one of the node's children and have it take the place of its parent. The given node will move down to a child of the newly parental node."
   ]
  },
  {
   "cell_type": "code",
   "execution_count": 8,
   "metadata": {},
   "outputs": [],
   "source": [
    "def rotate_left(self, node): # [YC] The node here is the parent of the inserted node\n",
    "    # Save off the parent of the sub-tree we're rotating\n",
    "    p = node.parent\n",
    "\n",
    "    node_moving_up = node.right\n",
    "    # After 'node' moves up, the right child will now be a left child\n",
    "    node.right = node_moving_up.left # [YC] the left child of the ex-child (node_moving_up) becomes the right child of the ex-parent (node)\n",
    "    \n",
    "    # 'node' moves down, to being a left child\n",
    "    node_moving_up.left = node # [YC] the left of the ex-child (node_moving_up) becomes the ex-parent, becuase it's higher than the parent now, and the parent becomes on its left\n",
    "    node.parent = node_moving_up # [YC] set the correct parent for the node, it's its pre-right child (nove_moving_up). \n",
    "    \n",
    "    # Now we need to connect to the sub-tree's parent\n",
    "    # 'node' may have been the root\n",
    "    if p != None:\n",
    "        if node == p.left:\n",
    "            p.left = node_moving_up # [YC] the grandparents's child now is directly the node_moving_up (which used to be grandson)\n",
    "        else:\n",
    "            p.right = node_moving_up\n",
    "    node_moving_up.parent = p # [YC] connect the ex-grandson (now son), to the grandparent. \n",
    "\n",
    "def rotate_right(self, node):\n",
    "    p = node.parent\n",
    "\n",
    "    node_moving_up = node.left\n",
    "    node.left = node_moving_up.right\n",
    "    \n",
    "    node_moving_up.right = node\n",
    "    node.parent = node_moving_up\n",
    "    \n",
    "    # Now we need to connect to the sub-tree's parent\n",
    "    if p != None:\n",
    "        if node == p.left:\n",
    "            p.left = node_moving_up\n",
    "        else:\n",
    "            p.right = node_moving_up\n",
    "    node_moving_up.parent = p\n",
    "    "
   ]
  },
  {
   "cell_type": "markdown",
   "metadata": {},
   "source": [
    "#### Case 5\n",
    "\n",
    "Now that case 4 is resolved, or if we didn't qualify for case 4 and have an outside sub-tree already, we need to rotate again. If our new node is a left child of a left child, we rotate right. If our new node is a right of a right, we rotate left. This is done on the grandparent node.\n",
    "\n",
    "But after this rotation, our colors will be off. Remember that for cases 3, 4, and 5, the parent of the new node is red. But we will have rotated a red node with a red child up, which violates our rule of all red nodes having two black children. So after rotating, we switch the colors of the (original) parent and grandparent nodes."
   ]
  },
  {
   "cell_type": "code",
   "execution_count": 9,
   "metadata": {},
   "outputs": [],
   "source": [
    "def rebalance(self, node):    \n",
    "    # ... omitted cases 1-3 ...\n",
    "    # Case 4\n",
    "    gp = grandparent(node)\n",
    "    if node == gp.left.right:\n",
    "        self.rotate_left(node.parent)\n",
    "    elif node == gp.right.left:\n",
    "        self.rotate_right(node.parent)\n",
    "\n",
    "    # Case 5\n",
    "    p = node.parent         # [YC] The node is the original node, which is actually the child of its previous child. \n",
    "    gp = p.parent\n",
    "    if node == p.left:\n",
    "        self.rotate_right(gp)\n",
    "    else:\n",
    "        self.rotate_left(gp)\n",
    "    p.color = 'black'\n",
    "    gp.color = 'red'\n"
   ]
  },
  {
   "cell_type": "markdown",
   "metadata": {},
   "source": [
    "### Result\n",
    "\n",
    "Combining all of our efforts we have the following."
   ]
  },
  {
   "cell_type": "code",
   "execution_count": 10,
   "metadata": {},
   "outputs": [],
   "source": [
    "class Node(object):\n",
    "    def __init__(self, value, parent, color):\n",
    "        self.value = value\n",
    "        self.left = None\n",
    "        self.right = None\n",
    "        self.parent = parent\n",
    "        self.color = color\n",
    "        \n",
    "    def __repr__(self):\n",
    "        print_color = 'R' if self.color == 'red' else 'B'\n",
    "        return '%d%s' % (self.value, print_color)\n",
    "\n",
    "def grandparent(node):\n",
    "    if node.parent == None:\n",
    "        return None\n",
    "    return node.parent.parent\n",
    "\n",
    "# Helper for finding the node's parent's sibling\n",
    "def pibling(node):\n",
    "    p = node.parent\n",
    "    gp = grandparent(node)\n",
    "    if gp == None:\n",
    "        return None\n",
    "    if p == gp.left:\n",
    "        return gp.right\n",
    "    if p == gp.right:\n",
    "        return gp.left\n",
    "\n",
    "class RedBlackTree(object):\n",
    "    def __init__(self, root):\n",
    "        self.root = Node(root, None, 'red')\n",
    "        \n",
    "    def __iter__(self):\n",
    "        yield from self.root.__iter__()\n",
    "        \n",
    "    def insert(self, new_val):\n",
    "        new_node = self.insert_helper(self.root, new_val)\n",
    "        self.rebalance(new_node)\n",
    "\n",
    "    def insert_helper(self, current, new_val):\n",
    "        if current.value < new_val:\n",
    "            if current.right:\n",
    "                return self.insert_helper(current.right, new_val)\n",
    "            else:\n",
    "                current.right = Node(new_val, current, 'red')\n",
    "                return current.right\n",
    "        else:\n",
    "            if current.left:\n",
    "                return self.insert_helper(current.left, new_val)\n",
    "            else:\n",
    "                current.left = Node(new_val, current, 'red')\n",
    "                return current.left\n",
    "\n",
    "    def rebalance(self, node):    \n",
    "        # Case 1\n",
    "        if node.parent == None:\n",
    "            return\n",
    "        \n",
    "        # Case 2\n",
    "        if node.parent.color == 'black':\n",
    "            return\n",
    "        \n",
    "        # Case 3\n",
    "        if pibling(node) and pibling(node).color == 'red':\n",
    "            pibling(node).color = 'black'\n",
    "            node.parent.color = 'black'\n",
    "            grandparent(node).color = 'red'\n",
    "            return self.rebalance(grandparent(node))\n",
    "        \n",
    "        gp = grandparent(node)        \n",
    "        # Small change, if there is no grandparent, cases 4 and 5\n",
    "        # won't apply\n",
    "        if gp == None:\n",
    "            return\n",
    "        \n",
    "        # Case 4\n",
    "        if gp.left and node == gp.left.right:\n",
    "            self.rotate_left(node.parent)\n",
    "            node = node.left\n",
    "        elif gp.right and node == gp.right.left:\n",
    "            self.rotate_right(node.parent)\n",
    "            node = node.right\n",
    "\n",
    "        # Case 5\n",
    "        p = node.parent\n",
    "        gp = p.parent\n",
    "        if node == p.left:\n",
    "            self.rotate_right(gp)\n",
    "        else:\n",
    "            self.rotate_left(gp)\n",
    "        p.color = 'black'\n",
    "        gp.color = 'red'\n",
    "\n",
    "    def rotate_left(self, node):\n",
    "        # Save off the parent of the sub-tree we're rotating\n",
    "        p = node.parent\n",
    "\n",
    "        node_moving_up = node.right\n",
    "        # After 'node' moves up, the right child will now be a left child\n",
    "        node.right = node_moving_up.left\n",
    "\n",
    "        # 'node' moves down, to being a left child\n",
    "        node_moving_up.left = node\n",
    "        node.parent = node_moving_up\n",
    "\n",
    "        # Now we need to connect to the sub-tree's parent\n",
    "        # 'node' may have been the root\n",
    "        if p != None:\n",
    "            if node == p.left:\n",
    "                p.left = node_moving_up\n",
    "            else:\n",
    "                p.right = node_moving_up\n",
    "        node_moving_up.parent = p\n",
    "\n",
    "    def rotate_right(self, node):\n",
    "        p = node.parent\n",
    "\n",
    "        node_moving_up = node.left\n",
    "        node.left = node_moving_up.right\n",
    "\n",
    "        node_moving_up.right = node\n",
    "        node.parent = node_moving_up\n",
    "\n",
    "        # Now we need to connect to the sub-tree's parent\n",
    "        if p != None:\n",
    "            if node == p.left:\n",
    "                p.left = node_moving_up\n",
    "            else:\n",
    "                p.right = node_moving_up\n",
    "        node_moving_up.parent = p"
   ]
  },
  {
   "cell_type": "markdown",
   "metadata": {},
   "source": [
    "### Testing\n",
    "\n",
    "We've written a lot of code. Let's see how the tree mutates as we add nodes.\n",
    "\n",
    "First, we'll need a way to visualize the tree. The below will nest, but remember the first child is always the left child."
   ]
  },
  {
   "cell_type": "code",
   "execution_count": 11,
   "metadata": {},
   "outputs": [],
   "source": [
    "def print_tree(node, level=0):\n",
    "    print('   ' * (level - 1) + '+--' * (level > 0) + '%s' % node)\n",
    "    if node.left:\n",
    "        print_tree(node.left, level + 1)\n",
    "    if node.right:\n",
    "        print_tree(node.right, level + 1)"
   ]
  },
  {
   "cell_type": "markdown",
   "metadata": {},
   "source": [
    "For cases 1 and 2, we can insert the first few nodes and see the tree behaves the same as a BST."
   ]
  },
  {
   "cell_type": "code",
   "execution_count": 12,
   "metadata": {},
   "outputs": [
    {
     "name": "stdout",
     "output_type": "stream",
     "text": [
      "9R\n",
      "+--6R\n",
      "+--19R\n"
     ]
    }
   ],
   "source": [
    "tree = RedBlackTree(9)\n",
    "tree.insert(6)\n",
    "tree.insert(19)\n",
    "\n",
    "print_tree(tree.root)"
   ]
  },
  {
   "cell_type": "markdown",
   "metadata": {},
   "source": [
    "Inserting 13 should flip 6 and 19 to black, as it hits our Case 3 logic."
   ]
  },
  {
   "cell_type": "code",
   "execution_count": 13,
   "metadata": {},
   "outputs": [
    {
     "name": "stdout",
     "output_type": "stream",
     "text": [
      "9R\n",
      "+--6B\n",
      "+--19B\n",
      "   +--13R\n"
     ]
    }
   ],
   "source": [
    "tree.insert(13)\n",
    "print_tree(tree.root)"
   ]
  },
  {
   "cell_type": "markdown",
   "metadata": {},
   "source": [
    "Observe that 13 was inserted as red, and then because of Case 3, 6 and 19 flipped to black. 9 was also assigned red, but that was not a net change. Because we're not enforcing the optional \"root is always black rule\", this is acceptable.\n",
    "\n",
    "Now let's cause some rotations. When we insert 16, it goes under 13, but 13 does not have a red sibling. 16 rotates into 13's spot, because it's currently an _inside_ sub-tree. Then 16 rotates into 19's spot. After these rotations, the ordering of the BST has been preserved _and_ our tree is balanced."
   ]
  },
  {
   "cell_type": "code",
   "execution_count": 128,
   "metadata": {},
   "outputs": [
    {
     "name": "stdout",
     "output_type": "stream",
     "text": [
      "9R\n",
      "+--6B\n",
      "+--16R\n",
      "   +--13B\n",
      "      +--16R\n",
      "   +--19B\n"
     ]
    }
   ],
   "source": [
    "tree.insert(16)\n",
    "print_tree(tree.root) ######## ??????????????"
   ]
  },
  {
   "cell_type": "markdown",
   "metadata": {
    "collapsed": true
   },
   "source": [
    "# 👏👏👏👏👏\n",
    "\n",
    "You've done it! Go ahead and pat yourself on the back! This is a complex use of a data structure that has significant power. It uses _O(n)_ space and insertions and search perform in _O(log n)_ time."
   ]
  },
  {
   "cell_type": "markdown",
   "metadata": {},
   "source": [
    "## Further Exercises\n",
    "\n",
    "To continue exploring our red-black tree implementation, you might try the following.\n",
    "* Observe that our current implementation will add duplicates of the same value. Is that desirable? How would you expect that to behave? Change the implementation to mark how many times the same value has been inserted.\n",
    "* Implement search and see how it remains logarithmic for large data sets\n",
    "* Tinker with the rotations and early escapes to see how they break (use `print_tree`)\n",
    "* Consider adding deletion or sketching out how it should work"
   ]
  },
  {
   "cell_type": "code",
   "execution_count": null,
   "metadata": {},
   "outputs": [],
   "source": []
  }
 ],
 "metadata": {
  "kernelspec": {
   "display_name": "Python 3",
   "language": "python",
   "name": "python3"
  },
  "language_info": {
   "codemirror_mode": {
    "name": "ipython",
    "version": 3
   },
   "file_extension": ".py",
   "mimetype": "text/x-python",
   "name": "python",
   "nbconvert_exporter": "python",
   "pygments_lexer": "ipython3",
   "version": "3.7.1"
  },
  "widgets": {
   "state": {},
   "version": "1.1.2"
  }
 },
 "nbformat": 4,
 "nbformat_minor": 2
}
