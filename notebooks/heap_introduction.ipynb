{
 "cells": [
  {
   "cell_type": "markdown",
   "metadata": {
    "graffitiCellId": "id_kqny2bz"
   },
   "source": [
    "# Priority Queues - Intuition\n",
    "\n",
    "Consider the following scenario - \n",
    "\n",
    "A doctor is working in an emergency wing at a hospital. When patients come in, a nurse checks their symptoms and based on the severity of the illness, sends them to the doctor. For e.g. a guy who has had an accident is sent before someone who has come with a runny nose. But there is a slight problem. There is only one nurse and only one doctor. In the amount of time nurse takes to check the symptoms, the doctor has to work alone with the patients, hurting their overall productivity. \n",
    "\n",
    "You are a ninja programmer. The doctor comes to you for help. Your job is to write a small software in which patients will enter their symptoms and will receive a priority number based on their illness. The doctor has given you a list of common ailments, and the priority in which he would prefer seeing them. How would you solve the priority problem?"
   ]
  },
  {
   "cell_type": "markdown",
   "metadata": {
    "graffitiCellId": "id_2onmb8o"
   },
   "source": [
    "## Priority Queues\n",
    "\n",
    "Like the name suggests, a **priority queue** is similar to a regular queue, except that each element in the queue has a priority associated with it. A regular queue is a FIFO data structure, meaning that the first element to be added to the queue is also the first to be removed.\n",
    "\n",
    "With a priority queue, this order of removal is instead based on the priority. Depending on how we choose to set up the priority queue, we either remove the element with the most priority, or an element of the least priority. \n",
    "\n",
    "For the sake of discussion, let's focus on removing the element of least priority for now. "
   ]
  },
  {
   "cell_type": "markdown",
   "metadata": {
    "graffitiCellId": "id_9enn6cd"
   },
   "source": [
    "## Functionality\n",
    "\n",
    "If we were to create a `PriorityQueue` class, what methods would it need to have?\n",
    "\n",
    "Here are the two key methods:\n",
    "* `insert` - insert an element\n",
    "* `remove` - remove an element\n",
    "\n",
    "And we can also add the same utility methods that we had in our regular `Queue` class:\n",
    "* `front`    - returns the element at the front of the queue\n",
    "* `size`     - returns the number of elements present in the queue\n",
    "* `is_empty` - returns `True` if there are no elements in the queue, and `False` otherwise\n",
    "\n",
    "As part of this functionality, we will need a way of assigning priorities to the items. \n",
    "\n",
    "A very common way to solve the patient-doctor problem mentioned above would be to assign each ailment a priority. For e.g.\n",
    "\n",
    "    * A running nose may be assigned priority 1\n",
    "    * Fever may be assigned 2\n",
    "    * Accident may get a priority 10\n",
    "  \n",
    "  \n",
    "You will find this theme recurring in all of programming. We use numbers to effectively represent data.     \n",
    "\n",
    "For the sake of simplicity, let's only consider integers here. Let us assume a scenario where we get integers as input and we assign a priority on how large / small they are. Let us say the smaller the number, the smaller its priority. So, in our simplified version of the problem statement the value of the integer serves as a priority. \n",
    "\n",
    "Our goal is to create a queue where the element with the lowest priority is removed first. Therefore, the `remove` method will remove the smallest number from the priority queue. Thus, the largest number will be the last to be removed from the priority queue and the smallest number will be the first to be removed. \n",
    "\n",
    "## How should we implement it?\n",
    "\n",
    "What we've described above is just the abstract characteristics that we expect from this data structure. As with stacks and queues (and other abstract data types), there is more than one way that we could implement our priority queue such that it would exhibit the above behaviors.\n",
    "\n",
    "However, not all implementations are ideal. When we implemented a regular queue earlier, you may remember the `enqueue` and `dequeue` methods had a time complexity of $O(1)$. Similarly, we would like the `insert` and `remove` methods on our priority queue to be fast.\n",
    "\n",
    "So, what underlying structure should we use to implement the priority queue such that it will be as efficient as possible? Let's look at some different structures and consider the pros and cons."
   ]
  },
  {
   "cell_type": "markdown",
   "metadata": {
    "graffitiCellId": "id_xuamxya"
   },
   "source": [
    "### Arrays\n",
    "\n",
    "Earlier, we saw that one way to implement a queue was by using an array. We could do a similar thing for priority queues. We could use the array to store our data.\n",
    "\n",
    "Insertion in an array is very fast. Unless the array is full, we can do it in `O(1)` time. \n",
    "\n",
    "*Note: When the array is full, we will simply create a new array and copy all the elements from our old array to new array. It's exactly similar to what we do for our queue's implementation using arrays.*\n",
    "\n",
    "What about removal? We always want to remove the smallest or highest priority data from the array, depending on if this is a max-heap or min-heap. In the worst case, we will have to search the entire array, which will take `O(n)` time. Thus, to remove the element, the time complexity would be `O(n)`.\n",
    "\n",
    "This also creates an additional problem for us. The index from which we removed the element is now empty. We cannot leave empty indices in our array. Over the course of operations, we will be wasting a lot of space if we did that. \n",
    "\n",
    "Therefore, insertion no longer happens in `O(1)` time. Rather, every time we insert, we will have to look for these empty indices and put our new element in the first empty index we find. In the worst case, this also takes `O(n)` time. Therefore, our time complexity with arrays (for both insertion and removal) would be `O(n)`.\n"
   ]
  },
  {
   "cell_type": "markdown",
   "metadata": {
    "graffitiCellId": "id_qxifknw"
   },
   "source": [
    "### LinkedList\n",
    "\n",
    "Insertion is very easy in a linked list. If we maintain a variable to keep track of the `tail` of the linked list, then we can simply add a new node at this location. Thus, insertion takes `O(1)` time. \n",
    "\n",
    "For removal, we will have to traverse the entire list and find the smallest element, which will require `O(n)` time. \n",
    "\n",
    "Note that with linked lists, unlike arrays, we do not have to worry about empty indices. \n",
    "\n",
    "A linked linked certainly seems to be a better option than an array. Although they have the same time complexity for removal, the time complexity for insertion is better."
   ]
  },
  {
   "cell_type": "markdown",
   "metadata": {
    "graffitiCellId": "id_he5opp8"
   },
   "source": [
    "### HashMap\n",
    "\n",
    "The same problem lies in HashMap as well. We can insert in `O(1)` time. Although, we can remove an element from a HashMap in `O(1)` time but we have to first search for the smallest element in the map. This will again take `O(n)` time. Therefore, the time complexity of `remove` is `O(n)` for hashmaps."
   ]
  },
  {
   "cell_type": "markdown",
   "metadata": {
    "graffitiCellId": "id_w676755"
   },
   "source": [
    "### Binary Search Trees\n",
    "\n",
    "Binary Search Trees are laid out according to the value of the node that we want to insert. All elements greater than the `root` go to the right of the `root`, and all elements smaller than the `root` go to the left of the `root`.\n",
    "\n",
    "If we assume that our Binary Search tree is balanced, insertion would require `O(h)` time in the worst case. Similarly, removal would also require `O(h)` time. Here `h` is the height of the binary search tree. \n",
    "\n",
    "<img src='./resources/01-bst.png'>\n",
    "\n",
    "A Binary Tree is called a `Balanced Binary Tree` when the difference between the heights of it's left subtree and right subtree do not differ by more than one. Additionally, to be balanced, all the subtrees of the binary tree must also be balanced. \n",
    "\n",
    "For a balanced tree, we can safely approximate the height of the tree `h` to `log(n)`. Thus, both insertion and removal require `O(log(n))` time in a binary search tree. \n",
    "\n",
    "\n",
    "\n",
    "However, in the worst case, our binary search tree might just be a sequential list of nodes (stretching to the right or to the left). Consider the following tree:\n",
    "\n",
    "<img src='./resources/02-bst.png'>\n",
    "\n",
    "In such a scenario the binary search tree effectively turns into a linked list. In this case, the time complexity would be `O(n)`\n",
    "\n",
    "To avoid this situation, we would need a self-balancing tree which incure additional complexity.\n",
    "\n",
    "We could use any of the above data structures to implement our priority queue—and they would work, in the sense that they would exhibit the outward behavior we expect in a priority queue.\n",
    "\n",
    "However, none of them acheived our goal of having $O(1)$ time complexity for both `insert` and `remove`. To do that, we will need to explore something new: A *heap*."
   ]
  },
  {
   "cell_type": "markdown",
   "metadata": {
    "graffitiCellId": "id_w641jir"
   },
   "source": [
    "# Heaps\n",
    "\n",
    "A heap is a data structure with the following two main properties:\n",
    "\n",
    "1. Complete Binary Tree\n",
    "2. Heap Order Property"
   ]
  },
  {
   "cell_type": "markdown",
   "metadata": {
    "graffitiCellId": "id_n5cv9r1"
   },
   "source": [
    "1. **Complete Binary Tree** - Like the name suggests we use a binary tree to create heaps. A complete binary tree is a special type of binary tree in which all levels must be filled except for the last level. Moreover, in the last level, the elements must be filled from left to right.\n",
    "\n",
    "<img src='./resources/01-cbt.png'>\n",
    "\n",
    "A. is a complete binary tree. Notice how every level except the last level is filled. Also notice how the last level is filled from left to right. \n",
    "\n",
    "\n",
    "<img src='./resources/02-cbt.png'>\n",
    "\n",
    "B. is not a complete binary tree. Although evey level is filled except for the last level. Notice how the last level is not filled from left to right. `25` does not have any right node and yet there is one more node (`9`) in the same level towards the right of it. It is mandatory for a complete binary tree to be filled from left to right.\n",
    "\n",
    "\n",
    "<img src='./resources/03-cbt.png'>\n",
    "C. is also not a binary tree. Notice how the second level is not completely filled and yet we have elements in the third level. The right node of `10` is empty and yet we have nodes in the next level."
   ]
  },
  {
   "cell_type": "markdown",
   "metadata": {
    "graffitiCellId": "id_xnar4jy"
   },
   "source": [
    "* **Heap Order Property** - Heaps come in two flavors\n",
    "    * Min Heap\n",
    "    * Max Heap\n",
    "    \n",
    "    \n",
    "* Min Heap - In the case of min heaps, for each node, the parent node must be smaller than both the child nodes. It's okay even if one or both of the child nodes do not exists. However if they do exist, the value of the parent node must be smaller. Also note that it does not matter if the left node is greater than the right node or vice versa. The only important condition is that the root node must be smaller than both it's child nodes\n",
    "* Max Heap - For max heaps, this condition is exactly reversed. For each node, the value of the parent node must be larger than both the child nodes. \n",
    "    \n",
    "Thus, for a data structure to be called a Heap, it must satisfy both of the above properties. \n",
    "1. It must be a complete binary tree\n",
    "2. It must satisfy the heap order property. If it's a min heap, it must satisfy the heap order property for min heaps. If it's a max heap, it should satisfy the heap order property for max heaps. "
   ]
  },
  {
   "cell_type": "markdown",
   "metadata": {
    "graffitiCellId": "id_eq61dzz"
   },
   "source": [
    "## Complete Binary Tree\n",
    "\n",
    "Let's go back to our complete binary tree `A`.\n",
    "\n",
    "<img src='./resources/01-cbt.png'>\n",
    "\n",
    "If we have to insert one more node, where should the next node go?\n",
    "Because `A.` is a complete binary tree, the next node can only go as the `left` node of `15`.\n",
    "\n",
    "\n",
    "\n",
    "<img src='./resources/04-cbt.png'>\n",
    "\n",
    "\n",
    "Similarly, let's look back `A.` again. If we have to delete a node from `A.`, which node should we delete? Again, to ensure that our tree remains a complete binary tree even after deleting a node, we can only remove `9`.\n",
    "\n",
    "Thus, we know which node to remove and where to insert a new node. Notice that both of these operations do not depend upon values of other nodes. Rather, both `insert` and `remove` operations on a complete binary tree depend upon the position of the last inserted node. "
   ]
  },
  {
   "cell_type": "markdown",
   "metadata": {
    "graffitiCellId": "id_a6vn8mk"
   },
   "source": [
    "***This cell may require some visualization due to the mathematics involved***\n",
    "\n",
    "Now that we know about a complete binary, let's think about it in terms of Priority Queues. We talked about binary search trees where the complexity for `insert` and `remove` operation would be `O(log(n))` if the BST is balanced.\n",
    "\n",
    "In case of a complete binary tree we do not have to worry about whether the tree is balanced or not.\n",
    "\n",
    "* `Max number of nodes in 1st level = 1`\n",
    "* `Max number of nodes in 2nd level = 2`\n",
    "* `Max number of nodes in 3rd level = 4`\n",
    "* `Max number of nodes in 4th level = 8`\n",
    "\n",
    "We see that there is a clear patter here. \n",
    "\n",
    "* `Max number of nodes in hth level` = $2^{(h-1)}$\n",
    "\n",
    "Also, we can calculate the `max number of nodes from 1st level to hth level = ` $2^h - 1$\n",
    "\n",
    "Similarly, we can calculate the `min number of nodes from 1st level to hth level = `$2^{(h-1)}$\n",
    "\n",
    "*Note: the minimum number of nodes from 1st level to hth level = max number of nodes from 1st level to (h-1)th level + 1*\n",
    "\n",
    "Thus, in a complete binary tree of height `h`, we can be assured that the number of elements `n` would be between these two numbers i.e.\n",
    "\n",
    "$$ 2^{(h-1)}  <= n <= 2^h - 1$$\n",
    "\n",
    "* If we write the first inequality in base-2 logarithmic format we would have\n",
    "\n",
    "$$ \\log_{2}\\ (2^{(h-1)}) <= \\log_{2} n $$\n",
    "\n",
    "$$or$$\n",
    "\n",
    "$$ h <= \\log_{2} n + 1$$\n",
    "\n",
    "* Similarly, if we write the second equality in base-2 logarithmic format\n",
    "\n",
    "$$ \\log_{2} (n + 1) <= \\log_{2}\\ 2^{h}$$\n",
    "\n",
    "\n",
    "$$ or $$\n",
    "\n",
    "$$ \\log_{2} (n + 1) <= h $$\n",
    "\n",
    "Thus the value of our height `h` is always \n",
    "\n",
    "$$ \\log_{2} (n + 1) <= h <= \\log_{2} n + 1$$\n",
    "\n",
    "\n",
    "We can see that the height of our complete binary tree will always be in the order of `O(h)` or `O(log(n))`\n",
    "\n",
    "So, if instead of using a binary search tree, we use a complete binary tree, both `insert` and `remove` operation\n",
    "will have the time complexity $\\ \\log_{2} n$\n",
    "\n",
    "\n",
    "\n"
   ]
  },
  {
   "cell_type": "markdown",
   "metadata": {
    "graffitiCellId": "id_7omndgx"
   },
   "source": [
    "### Heaps for Priority Queues\n",
    "\n",
    "Let's take a step back and reflect on what we have done. \n",
    "\n",
    "1. We have examined popular data structures and observed their time complexities. \n",
    "2. We have looked at a new data structure called Heap\n",
    "3. We know that Heaps have two properties - \n",
    "        i. CBT \n",
    "        ii. Heap Order Property\n",
    "4. We have looked at what CBT is and what Heap Order Property is\n",
    "\n",
    "By now, it must have been clear to you that we are going to use Heaps to create our Priority Queues. But are you convinced that heaps are a good structure to create Priority Queues?\n",
    "\n",
    "Ans.\n",
    "\n",
    "1. Other than Binary Search trees, all other popular data structures seemed to have a time complexity of `O(n)` for both `insertion and removal`.\n",
    "\n",
    "2. Binary Search Trees seemed like an effective data structure with average case time complexity of `O(log(n)` (or `O(h)`) for both the operations.  However, in the worst case, a Binary Search Tree may not be balanced and instead behave like a linked list. In such a case, the time complexity in terms of height would still be `O(h)` but because the height of the binary search tree will be equal to the number of elements in the tree, the actual time complexity in terms of `number of elements n` would be `O(n)`.\n",
    "\n",
    "3. The CBT property of Heaps ensures that the tree is always balanced. Therefore, the `height h` of the tree will always be equal to `log(n)`.\n",
    "\n",
    "4. The Heap Order Property ensures that there is some definite structure to our Complete Binary Tree with respect to the value of the elements. In case of a min-heap, the minimum element will always lie at the root node. Similarly, in case of a maxp-heap, the maximum element will always lie at the root node. In both the cases, every time we `insert or remove` an element, the time complexity remains `O(log(n))`. \n",
    "\n",
    "Therefore, because of the time complexity being `O(log(n))`, we prefer heaps over other popular data structures to create our Priority Queues.\n"
   ]
  },
  {
   "cell_type": "markdown",
   "metadata": {
    "graffitiCellId": "id_inioz2w"
   },
   "source": [
    "## Complete Binary Trees using Arrays\n",
    "\n",
    "Although we call them complete binary trees, and we will always visualize them as binary trees, we never use binary trees to create them. Instead, we actually use arrays to create our complete binary trees. \n",
    "\n",
    "Let's us see how. \n",
    "\n",
    "<img src='./resources/05-cbt.png'>\n",
    "\n",
    "An array is a contiguous blocks of memory with individual \"blocks\" are laid out one after the other in memory. We are used to visualizing arrays as sequential blocks of memory. \n",
    "\n",
    "\n",
    "However, if we visualize them in the following way, can we find some similarities between arrays and complete binary trees?\n",
    "\n",
    "<img src='./resources/06-cbt.png'>"
   ]
  },
  {
   "cell_type": "markdown",
   "metadata": {
    "graffitiCellId": "id_q7d0y14"
   },
   "source": [
    "Let's think about it. \n",
    "\n",
    "* **In a complete binary tree, it is mandatory for all levels before the last level to be completely filled.** \n",
    "\n",
    "If we visualize our array in this manner, do we satisfy this property of a CBT? All we have to ensure is that we put elements in array indices sequenially i.e. the smaller index first and the larger index next. If we do that, we can be assured that all levels before the last level will be completely filled. \n",
    "\n",
    "\n",
    "*  **In a CBT, if the last level is not completely filled, the nodes must be filled from left to right.**\n",
    "\n",
    "Again, if we put elements in the array indices sequentially, from smaller index to larger index, we can be assured that if the last level is not filled, it will certainly be filled from left to right.\n",
    "\n",
    "\n",
    "Thus we can use an array to create our Completer Binary Tree. Although it's an array, we will always visualize it as complete binary tree when talking about heaps."
   ]
  },
  {
   "cell_type": "markdown",
   "metadata": {
    "graffitiCellId": "id_orkly58"
   },
   "source": [
    "Now let's talk about `insert` and `remove` operation in a heap. We will create our heap class which with these two operations. We also add a few utility methods for our convenience. Finally, because we know we are going to use arrays to create our heaps, we will also initialize an array.\n",
    "\n",
    "Note that we are creating min heaps for now. The max heap will follow the exact some process. The only difference arises in the Heap Order Property.\n",
    "\n",
    "As always we will use Python lists like C-style arrays to make the implementation as language agnostic as possible."
   ]
  },
  {
   "cell_type": "code",
   "execution_count": null,
   "metadata": {
    "graffitiCellId": "id_0y4yid9"
   },
   "outputs": [],
   "source": [
    "class Heap:\n",
    "    def __init__(self, initial_size):\n",
    "        self.cbt = [None for _ in range(initial_size)]        # initialize arrays\n",
    "        self.next_index = 0                                   # denotes next index where new element should go\n",
    "        \n",
    "    def insert(self, data):\n",
    "        pass\n",
    "    \n",
    "    def remove(self):\n",
    "        pass"
   ]
  },
  {
   "cell_type": "markdown",
   "metadata": {
    "graffitiCellId": "id_q1lsqiu"
   },
   "source": [
    "### Insert\n",
    "\n",
    "Insertion operation in a CBT is quite simple. Because we are using arrays to implement a CBT, we will always insert at the `next_index`. Also, after inserting, we will increment the value of `next_index`.\n",
    "\n",
    "However, this isn't enough. We also have to maintain the heap order property. We know that for min-heaps, the parent node is supposed to be smaller than both the child nodes. \n",
    "\n",
    "\n",
    "<img src='./resources/07-cbt.png'>"
   ]
  },
  {
   "cell_type": "markdown",
   "metadata": {
    "graffitiCellId": "id_801dqmm"
   },
   "source": [
    "Counting indices, we know that our next element should go at index 8. Let's say we want to insert `15` as our next element in the heap. In that case, we start off by inserting `15` at index 8. \n",
    "\n",
    "<img src='./resources/08-cbt.png'>\n",
    "\n",
    "Remember, although we are using arrays to implement a CBT, we will always visualize it as a binary tree. We will only consider them as arrays while implementing them. \n",
    "\n",
    "So, we went ahead and insert `15` at index 8. But this violates our heap order property. We are considering min-heap and the parent node of `15` is larger.\n",
    "\n",
    "In such a case, we `heapify`. We consider the parent node of the node we inserted and compare their values. In case of min-heaps, if the parent node is larger than the child node (the one we just inserted), we swap the nodes.\n",
    "\n",
    "Now the complete binary tree looks something like\n",
    "\n",
    "<img src='./resources/09-cbt.png'>"
   ]
  },
  {
   "cell_type": "markdown",
   "metadata": {
    "graffitiCellId": "id_8xq7fe6"
   },
   "source": [
    "Is the problem solved?\n",
    "\n",
    "Swapping the nodes for `15` and `50` certainly solved our problem. But it also introduced a new problem. Notice `15` and `20`. We are again in the same spot. The parent node is larger than the child node. And in a min-heap we cannot allow that. So, what do we do? We heapify. We swap these two nodes just as we swapped our previous two nodes. \n",
    "\n",
    "After swapping, our CBT looks like\n",
    "\n",
    "<img src='./resources/10-cbt.png'>\n",
    "\n",
    "\n",
    "Does everything seem fine now?\n",
    "\n",
    "We only have to consider the nodes that we swapped. And looks like we are fine. \n",
    "\n",
    "Now let's take a step back and see what we did. \n",
    "\n",
    "* We first inserted our element at the possible index.\n",
    "\n",
    "* Then we compared this element with the parent element and swapped them after finding that our child node was smaller than our parent node. And we did this process again. While writing code, we will continue this process until we find a parent which is smaller than the child node. Because we are travering the tree upwards while heapifying, this particular process is more accurately called `up-heapify`.\n",
    "\n",
    "Thus our `insert` method is actually done in two steps:\n",
    "* insert\n",
    "* up-heapify\n"
   ]
  },
  {
   "cell_type": "markdown",
   "metadata": {
    "graffitiCellId": "id_c7xkbpm"
   },
   "source": [
    "### Time Complexity\n",
    "\n",
    "Before talking about the implementation of `insert`, let's talk about the time complexity of the `insert` method. \n",
    "\n",
    "* Putting an element at a particular index in an array takes `O(1)` time. \n",
    "* However, in case of heapify, in the worst case we may have to travel from the node that we inserted right to the root node (placed at 0th index in the array). This would take `O(h)` time. In other words, this would be an `O(log(n))` operation. \n",
    "\n",
    "Thus the time complexity of `insert` would be `O(log(n))`."
   ]
  },
  {
   "cell_type": "markdown",
   "metadata": {
    "graffitiCellId": "id_lofirnv"
   },
   "source": [
    "### Insert - implementation\n",
    "\n",
    "Although we are using arrays for our CBT, we are visualizing it as a binary tree for understanding the idea. But when it comes to the implementation, we will have to think about it as an array. It is an array, after all. \n",
    "\n",
    "<img src='./resources/06-cbt.png'>\n",
    "\n",
    "In the above image, we can safely assume that\n",
    "\n",
    "* index 0 is the root node of the binary tree\n",
    "\n",
    "\n",
    "* index 0 is the parent node for indices 1 and 2 i.e. 1 is the left node of index 0, and 2 is the right node\n",
    "\n",
    "\n",
    "* Similarly, 3 and 4 are the child nodes of index 1.\n",
    "\n",
    "\n",
    "* And 5 and 6 are the child nodes of index 2\n",
    "\n",
    "Can we deduce any pattern from this?\n",
    "\n",
    "* If you notice carefully, the child nodes of 0 are ---> 1 and 2\n",
    "\n",
    "* The child nodes of 1 are ---> 3 and 4\n",
    "\n",
    "* The child nodes of 2 are ---> 5 and 6\n",
    "\n",
    "The child nodes of `p` are ---> `2 * (p + 1)` and `2 * (p + 2)`\n",
    "\n",
    "i.e. `the child nodes of a parent index p are placed at indices 2 * (p + 1) and 2 * (p + 2)`"
   ]
  },
  {
   "cell_type": "markdown",
   "metadata": {
    "graffitiCellId": "id_0wadye8"
   },
   "source": [
    "Similarly, can you deduce parent indices from a child index `c`?\n",
    "\n",
    "Ans. `for a child node at index c, the parent node will be located at (p - 1)//2`\n",
    "\n",
    "*Note the integer division*"
   ]
  },
  {
   "cell_type": "markdown",
   "metadata": {
    "graffitiCellId": "id_9xortav"
   },
   "source": [
    "Using these ideas, implement the `insert` method."
   ]
  },
  {
   "cell_type": "code",
   "execution_count": null,
   "metadata": {
    "graffitiCellId": "id_3fu2vso"
   },
   "outputs": [],
   "source": [
    "class Heap:\n",
    "    def __init__(self, initial_size):\n",
    "        self.cbt = [None for _ in range(initial_size)]        # initialize arrays\n",
    "        self.next_index = 0                                   # denotes next index where new element should go\n",
    "    \n",
    "    def insert(self, data):\n",
    "        \"\"\"\n",
    "        Insert `data` into the heap\n",
    "        \"\"\"\n",
    "        pass"
   ]
  },
  {
   "cell_type": "markdown",
   "metadata": {
    "graffitiCellId": "id_lmu9fbi"
   },
   "source": [
    "<span class=\"graffiti-highlight graffiti-id_lmu9fbi-id_uu03lu5\"><i></i><button>Show Solution</button></span>"
   ]
  },
  {
   "cell_type": "markdown",
   "metadata": {
    "graffitiCellId": "id_q281kas"
   },
   "source": [
    "### Remove\n",
    "\n",
    "For min-heaps, we remove the smallest element from our heaps. For max-heaps, we remove the largest element from the heap. \n",
    "\n",
    "\n",
    "By now, you must have realized that in case of min-heaps, the minimum element is stored at the root node of the complete binary tree. *Again, we are emphasizing the fact that we will always visualize a complete binary tree as a binary tree and not an array.*\n",
    "\n",
    "<img src='./resources/09-cbt.png'>\n",
    "\n",
    "\n",
    "Consider this CBT. Our remove operation should remove `10` from the tree. But if we remove `10`, we need to put the next smaller element at the root node. But that will again leave one node empty. So, we will again have to go to our next smaller element and place it at the node that is empty. This sounds tedious. \n",
    "\n",
    "Rather, we use a very simple yet efficient trick to remove the element. We swap the first node of the tree (which is the minimum element for a min-heap) with the last node of the tree. \n",
    "\n",
    "If we think about the implementation of our complete binary tree, we know that `10` will now be present at the last index of the array. So, removing `10` is a `O(1)` operation. \n",
    "\n",
    "However, you might have noticed that our complete binary tree does not follow the heap order property which means that it's no longer a heap. So, just like last time, we `heapify`. This time however, we start at the top and heapify in downward direction. Therefore, this is also called as `down-heapify`.\n",
    "\n",
    "We look at `50` which is present at the root node, and compare it with both it's children. We take the minimum of the three nodes i.e. `50, 15, and 40`, and place this minimum at the root node. At the same time, we place `50` at the node which we placed at the root node. \n",
    "\n",
    "Following this operation, our CBT looks like\n",
    "\n",
    "<img src='./resources/12-cbt.png'>\n",
    "\n",
    "Even now the CBT does not follow the heap order property. So, we again compare `50` with it's child nodes and swap `50` with the minimum of the three nodes. \n",
    "\n",
    "<img src='./resources/13-cbt.png'>\n",
    "\n",
    "At this point we stop because our CBT follows the heap order property."
   ]
  },
  {
   "cell_type": "markdown",
   "metadata": {
    "graffitiCellId": "id_17w0pbw"
   },
   "source": [
    "Can you code the `remove` method?"
   ]
  },
  {
   "cell_type": "code",
   "execution_count": null,
   "metadata": {
    "graffitiCellId": "id_szri76f"
   },
   "outputs": [],
   "source": [
    "class Heap:\n",
    "    def __init__(self, initial_size=10):\n",
    "        self.cbt = [None for _ in range(initial_size)]  # initialize arrays\n",
    "        self.next_index = 0  # denotes next index where new element should go    \n",
    "    \n",
    "    def size(self):\n",
    "        return self.next_index\n",
    "    \n",
    "    def remove(self):\n",
    "        \"\"\"\n",
    "        Remove and return the element at the top of the heap\n",
    "        \"\"\"\n",
    "        pass"
   ]
  },
  {
   "cell_type": "markdown",
   "metadata": {
    "graffitiCellId": "id_cmvqqye"
   },
   "source": [
    "<span class=\"graffiti-highlight graffiti-id_cmvqqye-id_ouugd42\"><i></i><button>Show Solution</button></span>"
   ]
  },
  {
   "cell_type": "markdown",
   "metadata": {
    "graffitiCellId": "id_4v31u2d"
   },
   "source": [
    "### Time Complexity\n",
    "\n",
    "Can you determine the time complexity for `remove` using the same process that we followed for `insert`?\n",
    "\n",
    "*Ans: the time complexity for `remove` is also O(log(n))*"
   ]
  },
  {
   "cell_type": "markdown",
   "metadata": {
    "graffitiCellId": "id_cl4gytd"
   },
   "source": [
    "### Final Heap\n",
    "Using the `insert` and `remove` functions, let's run the heap."
   ]
  },
  {
   "cell_type": "code",
   "execution_count": null,
   "metadata": {
    "graffitiCellId": "id_mtpavjj"
   },
   "outputs": [],
   "source": [
    "class Heap:\n",
    "    def __init__(self, initial_size=10):\n",
    "        self.cbt = [None for _ in range(initial_size)]  # initialize arrays\n",
    "        self.next_index = 0  # denotes next index where new element should go\n",
    "\n",
    "    def insert(self, data):\n",
    "        # insert element at the next index\n",
    "        self.cbt[self.next_index] = data\n",
    "\n",
    "        # heapify\n",
    "        self._up_heapify()\n",
    "\n",
    "        # increase index by 1\n",
    "        self.next_index += 1\n",
    "\n",
    "        # double the array and copy elements if next_index goes out of array bounds\n",
    "        if self.next_index >= len(self.cbt):\n",
    "            temp = self.cbt\n",
    "            self.cbt = [None for _ in range(2 * len(self.cbt))]\n",
    "\n",
    "            for index in range(self.next_index):\n",
    "                self.cbt[index] = temp[index]\n",
    "\n",
    "    def remove(self):\n",
    "        if self.size() == 0:\n",
    "            return None\n",
    "        self.next_index -= 1\n",
    "\n",
    "        to_remove = self.cbt[0]\n",
    "        last_element = self.cbt[self.next_index]\n",
    "\n",
    "        # place last element of the cbt at the root\n",
    "        self.cbt[0] = last_element\n",
    "\n",
    "        # we do not remove the elementm, rather we allow next `insert` operation to overwrite it\n",
    "        self.cbt[self.next_index] = to_remove\n",
    "        self._down_heapify()\n",
    "        return to_remove\n",
    "\n",
    "    def size(self):\n",
    "        return self.next_index \n",
    "\n",
    "    def is_empty(self):\n",
    "        return self.size() == 0\n",
    "\n",
    "    def _up_heapify(self):\n",
    "        # print(\"inside heapify\")\n",
    "        child_index = self.next_index\n",
    "\n",
    "        while child_index >= 1:\n",
    "            parent_index = (child_index - 1) // 2\n",
    "            parent_element = self.cbt[parent_index]\n",
    "            child_element = self.cbt[child_index]\n",
    "\n",
    "            if parent_element > child_element:\n",
    "                self.cbt[parent_index] = child_element\n",
    "                self.cbt[child_index] = parent_element\n",
    "\n",
    "                child_index = parent_index\n",
    "            else:\n",
    "                break\n",
    "\n",
    "    def _down_heapify(self):\n",
    "        parent_index = 0\n",
    "\n",
    "        while parent_index < self.next_index:\n",
    "            left_child_index = 2 * parent_index + 1\n",
    "            right_child_index = 2 * parent_index + 2\n",
    "\n",
    "            parent = self.cbt[parent_index]\n",
    "            left_child = None\n",
    "            right_child = None\n",
    "\n",
    "            min_element = parent\n",
    "\n",
    "            # check if left child exists\n",
    "            if left_child_index < self.next_index:\n",
    "                left_child = self.cbt[left_child_index]\n",
    "\n",
    "            # check if right child exists\n",
    "            if right_child_index < self.next_index:\n",
    "                right_child = self.cbt[right_child_index]\n",
    "\n",
    "            # compare with left child\n",
    "            if left_child is not None:\n",
    "                min_element = min(parent, left_child)\n",
    "\n",
    "            # compare with right child\n",
    "            if right_child is not None:\n",
    "                min_element = min(right_child, min_element)\n",
    "\n",
    "            # check if parent is rightly placed\n",
    "            if min_element == parent:\n",
    "                return\n",
    "\n",
    "            if min_element == left_child:\n",
    "                self.cbt[left_child_index] = parent\n",
    "                self.cbt[parent_index] = min_element\n",
    "                parent = left_child_index\n",
    "\n",
    "            elif min_element == right_child:\n",
    "                self.cbt[right_child_index] = parent\n",
    "                self.cbt[parent_index] = min_element\n",
    "                parent = right_child_index\n",
    "\n",
    "    def get_minimum(self):\n",
    "        # Returns the minimum element present in the heap\n",
    "        if self.size() == 0:\n",
    "            return None\n",
    "        return self.cbt[0]"
   ]
  },
  {
   "cell_type": "code",
   "execution_count": null,
   "metadata": {
    "graffitiCellId": "id_7uq10up"
   },
   "outputs": [],
   "source": [
    "heap_size = 5\n",
    "heap = Heap(heap_size)\n",
    "\n",
    "elements = [1, 2, 3, 4, 1, 2]\n",
    "for element in elements:\n",
    "    heap.insert(element)\n",
    "print('Inserted elements: {}'.format(elements))\n",
    "    \n",
    "print('size of heap: {}'.format(heap.size()))\n",
    "\n",
    "for _ in range(4):\n",
    "    print('Call remove: {}'.format(heap.remove()))\n",
    "\n",
    "print('Call get_minimum: {}'.format(heap.get_minimum()))\n",
    "\n",
    "for _ in range(2):\n",
    "    print('Call remove: {}'.format(heap.remove()))\n",
    "\n",
    "print('size of heap: {}'.format(heap.size()))\n",
    "print('Call remove: {}'.format(heap.remove()))\n",
    "print('Call is_empty: {}'.format(heap.is_empty()))"
   ]
  },
  {
   "cell_type": "markdown",
   "metadata": {
    "graffitiCellId": "id_afmn8q3"
   },
   "source": [
    "That's it for heaps! Now it's time for the next topic, self-balancing trees."
   ]
  }
 ],
 "metadata": {
  "graffiti": {
   "firstAuthorId": "dev",
   "id": "id_shgx70q",
   "language": "EN"
  },
  "kernelspec": {
   "display_name": "Python 3",
   "language": "python",
   "name": "python3"
  },
  "language_info": {
   "codemirror_mode": {
    "name": "ipython",
    "version": 3
   },
   "file_extension": ".py",
   "mimetype": "text/x-python",
   "name": "python",
   "nbconvert_exporter": "python",
   "pygments_lexer": "ipython3",
   "version": "3.6.3"
  }
 },
 "nbformat": 4,
 "nbformat_minor": 2
}
